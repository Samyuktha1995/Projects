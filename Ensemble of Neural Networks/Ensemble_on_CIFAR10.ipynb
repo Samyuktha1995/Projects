{
  "nbformat": 4,
  "nbformat_minor": 0,
  "metadata": {
    "colab": {
      "name": "Ensemble on CIFAR10",
      "version": "0.3.2",
      "provenance": []
    },
    "kernelspec": {
      "name": "python3",
      "display_name": "Python 3"
    },
    "accelerator": "GPU"
  },
  "cells": [
    {
      "metadata": {
        "id": "d87Jn4RFJD9m",
        "colab_type": "code",
        "outputId": "831962fc-94c1-4e89-e088-4a1541f7e730",
        "colab": {
          "base_uri": "https://localhost:8080/",
          "height": 35
        }
      },
      "cell_type": "code",
      "source": [
        "from keras.models import Model, Input\n",
        "from keras.layers import Conv2D, MaxPooling2D, GlobalAveragePooling2D, Activation, Average, Dropout\n",
        "from keras.utils import to_categorical\n",
        "from keras.losses import categorical_crossentropy\n",
        "from keras.callbacks import ModelCheckpoint, TensorBoard\n",
        "from keras.optimizers import Adam\n",
        "from keras.datasets import cifar10\n",
        "import numpy as np"
      ],
      "execution_count": 0,
      "outputs": [
        {
          "output_type": "stream",
          "text": [
            "Using TensorFlow backend.\n"
          ],
          "name": "stderr"
        }
      ]
    },
    {
      "metadata": {
        "id": "ye4bi6dBsBud",
        "colab_type": "code",
        "outputId": "56ea75da-6596-471d-8c50-fa5b410a4d04",
        "colab": {
          "base_uri": "https://localhost:8080/",
          "height": 35
        }
      },
      "cell_type": "code",
      "source": [
        "# Load the Drive helper and mount\n",
        "from google.colab import drive\n",
        "\n",
        "# This will prompt for authorization.\n",
        "drive.mount('/content/drive')"
      ],
      "execution_count": 0,
      "outputs": [
        {
          "output_type": "stream",
          "text": [
            "Drive already mounted at /content/drive; to attempt to forcibly remount, call drive.mount(\"/content/drive\", force_remount=True).\n"
          ],
          "name": "stdout"
        }
      ]
    },
    {
      "metadata": {
        "id": "IgBsH-n3sUFe",
        "colab_type": "code",
        "colab": {}
      },
      "cell_type": "code",
      "source": [
        "import sys\n",
        "sys.path.append('drive/Project')"
      ],
      "execution_count": 0,
      "outputs": []
    },
    {
      "metadata": {
        "id": "DVRWZN9HtVxi",
        "colab_type": "code",
        "colab": {}
      },
      "cell_type": "code",
      "source": [
        "#!ls \"/content/drive/My Drive\""
      ],
      "execution_count": 0,
      "outputs": []
    },
    {
      "metadata": {
        "id": "RjDEz1wrK7of",
        "colab_type": "code",
        "colab": {}
      },
      "cell_type": "code",
      "source": [
        "(x_train, y_train), (x_test, y_test) = cifar10.load_data()\n",
        "x_train = x_train/255\n",
        "x_test = x_test/255\n",
        "y_train = to_categorical(y_train, 10)\n"
      ],
      "execution_count": 0,
      "outputs": []
    },
    {
      "metadata": {
        "id": "rYfO_WO-LgGu",
        "colab_type": "code",
        "outputId": "10b543fe-661b-47f4-8b54-8b83f69ab236",
        "colab": {
          "base_uri": "https://localhost:8080/",
          "height": 85
        }
      },
      "cell_type": "code",
      "source": [
        "print(\"x_train shape: \",format(x_train.shape))\n",
        "print(\"y_train shape: \",format(y_train.shape))\n",
        "print(\"x_test shape: \",format(x_test.shape))\n",
        "print(\"y_test shape: \",format(y_test.shape))"
      ],
      "execution_count": 0,
      "outputs": [
        {
          "output_type": "stream",
          "text": [
            "x_train shape:  (50000, 32, 32, 3)\n",
            "y_train shape:  (50000, 10)\n",
            "x_test shape:  (10000, 32, 32, 3)\n",
            "y_test shape:  (10000, 1)\n"
          ],
          "name": "stdout"
        }
      ]
    },
    {
      "metadata": {
        "id": "pCQKUe89MWps",
        "colab_type": "code",
        "colab": {}
      },
      "cell_type": "code",
      "source": [
        "input_shape = x_train[0,:,:,:].shape\n",
        "model_input = Input(shape=input_shape)"
      ],
      "execution_count": 0,
      "outputs": []
    },
    {
      "metadata": {
        "id": "hOiFY7Gdv3jO",
        "colab_type": "code",
        "colab": {}
      },
      "cell_type": "code",
      "source": [
        "epochs = 5"
      ],
      "execution_count": 0,
      "outputs": []
    },
    {
      "metadata": {
        "id": "rRaZzlBqMpV8",
        "colab_type": "code",
        "colab": {}
      },
      "cell_type": "code",
      "source": [
        "#First CNN - ConvPool cnn\n",
        "\n",
        "def conv_pool_cnn(model_input):\n",
        "  x = Conv2D(96, (3,3), activation='relu', padding='same')(model_input)\n",
        "  x = Conv2D(96, (3,3), activation='relu', padding='same')(x)\n",
        "  x = Conv2D(96, (3,3), activation='relu', padding='same')(x)\n",
        "  x = MaxPooling2D(pool_size = (3,3), strides = 2)(x)\n",
        "  x = Conv2D(192, (3,3), activation='relu', padding='same')(x)\n",
        "  x = Conv2D(192, (3,3), activation='relu', padding='same')(x)\n",
        "  x = Conv2D(192, (3,3), activation='relu', padding='same')(x)\n",
        "  x = MaxPooling2D(pool_size = (3,3), strides = 2)(x)\n",
        "  x = Conv2D(192, (3,3), activation='relu', padding='same')(x)\n",
        "  x = Conv2D(192, (1,1), activation='relu')(x)\n",
        "  x = Conv2D(10, (1,1))(x) # No activation here, since its passing through Global Average Pooling layer\n",
        "  x = GlobalAveragePooling2D()(x)\n",
        "  x = Activation(activation='softmax')(x)\n",
        "  \n",
        "  model = Model(model_input, x, name='conv_pool_cnn')\n",
        "  \n",
        "  return model"
      ],
      "execution_count": 0,
      "outputs": []
    },
    {
      "metadata": {
        "id": "6T6QcKs4O-qT",
        "colab_type": "code",
        "colab": {}
      },
      "cell_type": "code",
      "source": [
        "#instantiate the model\n",
        "convPoolCnnModel = conv_pool_cnn(model_input)"
      ],
      "execution_count": 0,
      "outputs": []
    },
    {
      "metadata": {
        "id": "9C7zzQNbQFda",
        "colab_type": "code",
        "colab": {}
      },
      "cell_type": "code",
      "source": [
        "def compile_and_train(model, num_epochs):\n",
        "  model.compile(loss=categorical_crossentropy, optimizer=Adam(), metrics=['acc'])\n",
        " # history = model.fit(x=x_train, y=y_train, batch_size=32, epochs=num_epochs, verbose=1, validation_split=0.2)\n",
        "  \n",
        "  \n",
        "  filepath = model.name + '.{epoch:02d}-{loss:.2f}.hdf5'\n",
        "  \n",
        "  checkpoint = ModelCheckpoint(filepath, monitor='loss', verbose=0, save_weights_only=True, save_best_only=True, mode='auto', period=1)\n",
        "  \n",
        "  tensor_board = TensorBoard(log_dir='logs/', histogram_freq=0, batch_size=32)\n",
        "  \n",
        "  history = model.fit(x=x_train, y=y_train, batch_size=32, epochs=num_epochs, verbose=1, callbacks=[checkpoint, tensor_board], validation_split=0.2)\n",
        "   \n",
        " \n",
        "  return history"
      ],
      "execution_count": 0,
      "outputs": []
    },
    {
      "metadata": {
        "id": "YWB0VQMwReYx",
        "colab_type": "code",
        "outputId": "eff48d21-591c-43e3-86c8-39e5aa74557e",
        "colab": {
          "base_uri": "https://localhost:8080/",
          "height": 204
        }
      },
      "cell_type": "code",
      "source": [
        "_ = compile_and_train(convPoolCnnModel, num_epochs=epochs)"
      ],
      "execution_count": 0,
      "outputs": [
        {
          "output_type": "stream",
          "text": [
            "Train on 40000 samples, validate on 10000 samples\n",
            "Epoch 1/5\n",
            "40000/40000 [==============================] - 60s 1ms/step - loss: 1.8740 - acc: 0.2860 - val_loss: 1.5329 - val_acc: 0.4251\n",
            "Epoch 2/5\n",
            "40000/40000 [==============================] - 59s 1ms/step - loss: 1.3500 - acc: 0.5065 - val_loss: 1.2175 - val_acc: 0.5618\n",
            "Epoch 3/5\n",
            "40000/40000 [==============================] - 59s 1ms/step - loss: 1.0640 - acc: 0.6182 - val_loss: 0.9703 - val_acc: 0.6568\n",
            "Epoch 4/5\n",
            "40000/40000 [==============================] - 59s 1ms/step - loss: 0.8766 - acc: 0.6885 - val_loss: 0.8284 - val_acc: 0.7102\n",
            "Epoch 5/5\n",
            "40000/40000 [==============================] - 59s 1ms/step - loss: 0.7481 - acc: 0.7388 - val_loss: 0.7455 - val_acc: 0.7433\n"
          ],
          "name": "stdout"
        }
      ]
    },
    {
      "metadata": {
        "id": "NWXlW5vkZdaP",
        "colab_type": "code",
        "colab": {}
      },
      "cell_type": "code",
      "source": [
        "#evaluate the model\n",
        "\n",
        "def evaluate_error(model):\n",
        "  pred = model.predict(x_test, batch_size=32)\n",
        "  pred = np.argmax(pred, axis=1)\n",
        "  pred = np.expand_dims(pred, axis=1)\n",
        "  error = np.sum(np.not_equal(pred,y_test))/y_test.shape[0]\n",
        "  \n",
        "  return error\n",
        "\n"
      ],
      "execution_count": 0,
      "outputs": []
    },
    {
      "metadata": {
        "id": "ySNDW9c5xbrR",
        "colab_type": "code",
        "outputId": "64720b6f-431a-4917-cf7d-731ac13ecfae",
        "colab": {
          "base_uri": "https://localhost:8080/",
          "height": 34
        }
      },
      "cell_type": "code",
      "source": [
        "evaluate_error(convPoolCnnModel)"
      ],
      "execution_count": 0,
      "outputs": [
        {
          "output_type": "execute_result",
          "data": {
            "text/plain": [
              "0.258"
            ]
          },
          "metadata": {
            "tags": []
          },
          "execution_count": 95
        }
      ]
    },
    {
      "metadata": {
        "id": "PNmqcAqebi3b",
        "colab_type": "code",
        "colab": {}
      },
      "cell_type": "code",
      "source": [
        "#Second Model\n",
        "\n",
        "def all_cnn(model_input):\n",
        "  x = Conv2D(96, (3,3), activation='relu', padding='same')(model_input)\n",
        "  x = Conv2D(96, (3,3), activation='relu', padding='same')(x)\n",
        "  x = Conv2D(96, (3,3), activation='relu', padding='same', strides=2)(x)\n",
        "  x = Conv2D(192, (3,3), activation='relu', padding='same')(x)\n",
        "  x = Conv2D(192, (3,3), activation='relu', padding='same')(x)\n",
        "  x = Conv2D(192, (3,3), activation='relu', padding='same', strides=2)(x)\n",
        "  x = Conv2D(192, (3,3), activation='relu', padding='same')(x)\n",
        "  x = Conv2D(192, (1,1), activation='relu')(x)\n",
        "  x = Conv2D(10, (1,1))(x) # No activation here, since its passing through Global Average Pooling layer\n",
        "  x = GlobalAveragePooling2D()(x)\n",
        "  x = Activation(activation='softmax')(x)\n",
        "  \n",
        "  model = Model(model_input, x, name='all_cnn')\n",
        "  \n",
        "  return model\n"
      ],
      "execution_count": 0,
      "outputs": []
    },
    {
      "metadata": {
        "id": "82aZZmdXcFOb",
        "colab_type": "code",
        "outputId": "907a7187-0135-4bc7-eed3-c3e0cd74502e",
        "colab": {
          "base_uri": "https://localhost:8080/",
          "height": 204
        }
      },
      "cell_type": "code",
      "source": [
        "allCnnModel = all_cnn(model_input)\n",
        "_ = compile_and_train(allCnnModel, num_epochs=epochs)"
      ],
      "execution_count": 0,
      "outputs": [
        {
          "output_type": "stream",
          "text": [
            "Train on 40000 samples, validate on 10000 samples\n",
            "Epoch 1/5\n",
            "40000/40000 [==============================] - 56s 1ms/step - loss: 1.9413 - acc: 0.2550 - val_loss: 1.6226 - val_acc: 0.3939\n",
            "Epoch 2/5\n",
            "40000/40000 [==============================] - 56s 1ms/step - loss: 1.5408 - acc: 0.4304 - val_loss: 1.4378 - val_acc: 0.4713\n",
            "Epoch 3/5\n",
            "40000/40000 [==============================] - 55s 1ms/step - loss: 1.3455 - acc: 0.5071 - val_loss: 1.2998 - val_acc: 0.5264\n",
            "Epoch 4/5\n",
            "40000/40000 [==============================] - 55s 1ms/step - loss: 1.1569 - acc: 0.5834 - val_loss: 1.0810 - val_acc: 0.6114\n",
            "Epoch 5/5\n",
            "40000/40000 [==============================] - 55s 1ms/step - loss: 1.0091 - acc: 0.6412 - val_loss: 0.9967 - val_acc: 0.6465\n"
          ],
          "name": "stdout"
        }
      ]
    },
    {
      "metadata": {
        "id": "edvrUipOdZlQ",
        "colab_type": "code",
        "outputId": "0e576599-4c90-4170-858c-0c330d91dbe7",
        "colab": {
          "base_uri": "https://localhost:8080/",
          "height": 34
        }
      },
      "cell_type": "code",
      "source": [
        "evaluate_error(allCnnModel)"
      ],
      "execution_count": 0,
      "outputs": [
        {
          "output_type": "execute_result",
          "data": {
            "text/plain": [
              "0.3541"
            ]
          },
          "metadata": {
            "tags": []
          },
          "execution_count": 98
        }
      ]
    },
    {
      "metadata": {
        "id": "0VWvMD0zdhxR",
        "colab_type": "code",
        "colab": {}
      },
      "cell_type": "code",
      "source": [
        "#3rd model Network-in-Network model \n",
        "\n",
        "def nin_cnn(model_input):\n",
        "  \n",
        "  #mlp conv block1\n",
        "  x = Conv2D(32, (5,5), activation='relu', padding='valid')(model_input)\n",
        "  x = Conv2D(32, (1,1), activation='relu')(x)\n",
        "  x = Conv2D(32, (1,1), activation='relu')(x)\n",
        "  x = MaxPooling2D((2,2))(x)\n",
        "  x = Dropout(0.5)(x)\n",
        "  \n",
        "  #mlp conv block2\n",
        "  x = Conv2D(64, (3,3), activation='relu', padding='valid')(x)\n",
        "  x = Conv2D(64, (1,1), activation='relu')(x)\n",
        "  x = Conv2D(64, (1,1), activation='relu')(x)\n",
        "  x = MaxPooling2D((2,2))(x)\n",
        "  x = Dropout(0.5)(x)\n",
        "  \n",
        "  #mlp conv block3\n",
        "  x = Conv2D(128, (3,3), activation='relu', padding='valid')(x)\n",
        "  x = Conv2D(32, (1,1), activation='relu')(x)\n",
        "  x = Conv2D(10, (1,1))(x)\n",
        "  \n",
        "  x = GlobalAveragePooling2D()(x)\n",
        "  x = Activation(activation='softmax')(x)\n",
        "  \n",
        "  model = Model(model_input, x, name='nin_cnn')\n",
        "  \n",
        "  return model "
      ],
      "execution_count": 0,
      "outputs": []
    },
    {
      "metadata": {
        "id": "BgLo67y9f_mU",
        "colab_type": "code",
        "outputId": "f8f043af-b5d5-4759-9c4b-99986feaaf57",
        "colab": {
          "base_uri": "https://localhost:8080/",
          "height": 204
        }
      },
      "cell_type": "code",
      "source": [
        "ninModel = nin_cnn(model_input)\n",
        "_ = compile_and_train(ninModel, num_epochs=epochs)"
      ],
      "execution_count": 0,
      "outputs": [
        {
          "output_type": "stream",
          "text": [
            "Train on 40000 samples, validate on 10000 samples\n",
            "Epoch 1/5\n",
            "40000/40000 [==============================] - 22s 546us/step - loss: 1.9284 - acc: 0.2661 - val_loss: 1.6451 - val_acc: 0.3824\n",
            "Epoch 2/5\n",
            "40000/40000 [==============================] - 23s 566us/step - loss: 1.5890 - acc: 0.4140 - val_loss: 1.4451 - val_acc: 0.4733\n",
            "Epoch 3/5\n",
            "40000/40000 [==============================] - 23s 563us/step - loss: 1.4564 - acc: 0.4665 - val_loss: 1.3365 - val_acc: 0.5184\n",
            "Epoch 4/5\n",
            "40000/40000 [==============================] - 23s 564us/step - loss: 1.3708 - acc: 0.5017 - val_loss: 1.2752 - val_acc: 0.5390\n",
            "Epoch 5/5\n",
            "40000/40000 [==============================] - 23s 566us/step - loss: 1.3044 - acc: 0.5295 - val_loss: 1.2793 - val_acc: 0.5430\n"
          ],
          "name": "stdout"
        }
      ]
    },
    {
      "metadata": {
        "id": "gqpaeL7sgv2J",
        "colab_type": "code",
        "outputId": "3025204c-a490-4452-b286-3fde664d0279",
        "colab": {
          "base_uri": "https://localhost:8080/",
          "height": 34
        }
      },
      "cell_type": "code",
      "source": [
        "evaluate_error(ninModel)"
      ],
      "execution_count": 0,
      "outputs": [
        {
          "output_type": "execute_result",
          "data": {
            "text/plain": [
              "0.4584"
            ]
          },
          "metadata": {
            "tags": []
          },
          "execution_count": 101
        }
      ]
    },
    {
      "metadata": {
        "id": "nXVYsClnjd6u",
        "colab_type": "code",
        "colab": {}
      },
      "cell_type": "code",
      "source": [
        "conv_pool_cnn_model = conv_pool_cnn(model_input)\n",
        "all_cnn_model = all_cnn(model_input)\n",
        "nin_cnn_model = nin_cnn(model_input)\n",
        "\n",
        "conv_pool_cnn_model.load_weights('conv_pool_cnn.05-0.75.hdf5')\n",
        "all_cnn_model.load_weights('all_cnn.05-1.01.hdf5')\n",
        "nin_cnn_model.load_weights('nin_cnn.05-1.30.hdf5')\n",
        "\n",
        "models = [conv_pool_cnn_model, all_cnn_model, nin_cnn_model]"
      ],
      "execution_count": 0,
      "outputs": []
    },
    {
      "metadata": {
        "id": "QeR4juFjvFR1",
        "colab_type": "code",
        "colab": {}
      },
      "cell_type": "code",
      "source": [
        "def ensemble(models, model_input):\n",
        "    \n",
        "    outputs = [model.outputs[0] for model in models]\n",
        "    y = Average()(outputs)\n",
        "    \n",
        "    model = Model(model_input, y, name='ensemble')\n",
        "    \n",
        "    return model\n",
        "ensemble_model = ensemble(models, model_input)"
      ],
      "execution_count": 0,
      "outputs": []
    },
    {
      "metadata": {
        "id": "mTY4qMcgvKfu",
        "colab_type": "code",
        "outputId": "046f6e35-d9b6-4982-e165-943c1d76fa07",
        "colab": {
          "base_uri": "https://localhost:8080/",
          "height": 34
        }
      },
      "cell_type": "code",
      "source": [
        "evaluate_error(ensemble_model)"
      ],
      "execution_count": 0,
      "outputs": [
        {
          "output_type": "execute_result",
          "data": {
            "text/plain": [
              "0.2677"
            ]
          },
          "metadata": {
            "tags": []
          },
          "execution_count": 104
        }
      ]
    },
    {
      "metadata": {
        "id": "InHwMfiRvWKv",
        "colab_type": "code",
        "outputId": "4630ad74-7e55-4998-d7e6-8e4baef1825f",
        "colab": {
          "base_uri": "https://localhost:8080/",
          "height": 34
        }
      },
      "cell_type": "code",
      "source": [
        "pair_A = [conv_pool_cnn_model, all_cnn_model]\n",
        "pair_B = [conv_pool_cnn_model, nin_cnn_model]\n",
        "pair_C = [all_cnn_model, nin_cnn_model]\n",
        "pair_A_ensemble_model = ensemble(pair_A, model_input)\n",
        "evaluate_error(pair_A_ensemble_model)"
      ],
      "execution_count": 0,
      "outputs": [
        {
          "output_type": "execute_result",
          "data": {
            "text/plain": [
              "0.3047"
            ]
          },
          "metadata": {
            "tags": []
          },
          "execution_count": 82
        }
      ]
    }
  ]
}