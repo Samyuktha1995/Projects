{
  "nbformat": 4,
  "nbformat_minor": 0,
  "metadata": {
    "colab": {
      "name": "mnist using NN.ipynb",
      "version": "0.3.2",
      "provenance": []
    },
    "kernelspec": {
      "name": "python2",
      "display_name": "Python 2"
    }
  },
  "cells": [
    {
      "metadata": {
        "id": "SFHghYhKkAM4",
        "colab_type": "code",
        "colab": {
          "base_uri": "https://localhost:8080/",
          "height": 87
        },
        "outputId": "bd402a5e-8fb7-4e45-9be0-e2e6d80e3eff"
      },
      "cell_type": "code",
      "source": [
        "import tensorflow as tf\n",
        "from tensorflow.examples.tutorials.mnist import input_data\n",
        "mnist = input_data.read_data_sets(\"official/mnist/dataset.py\",one_hot=True)"
      ],
      "execution_count": 8,
      "outputs": [
        {
          "output_type": "stream",
          "text": [
            "Extracting official/mnist/dataset.py/train-images-idx3-ubyte.gz\n",
            "Extracting official/mnist/dataset.py/train-labels-idx1-ubyte.gz\n",
            "Extracting official/mnist/dataset.py/t10k-images-idx3-ubyte.gz\n",
            "Extracting official/mnist/dataset.py/t10k-labels-idx1-ubyte.gz\n"
          ],
          "name": "stdout"
        }
      ]
    },
    {
      "metadata": {
        "id": "LHsHc44kkOEY",
        "colab_type": "code",
        "colab": {}
      },
      "cell_type": "code",
      "source": [
        "#Three hidden layers\n",
        "n_nodes_hl1 = 1000\n",
        "n_nodes_hl2 = 1000\n",
        "n_nodes_hl3 = 1000\n",
        "#Number of classes\n",
        "n_classes = 10\n",
        "#Will go through 100 features at a time\n",
        "batch_size = 100\n",
        "#Placeholder variables (height * width)\n",
        "#These are placeholders for some values in the graph\n",
        "x = tf.placeholder('float',[None,784])\n",
        "y = tf.placeholder('float')"
      ],
      "execution_count": 0,
      "outputs": []
    },
    {
      "metadata": {
        "id": "q456K6x0kS1V",
        "colab_type": "code",
        "colab": {}
      },
      "cell_type": "code",
      "source": [
        "def neural_network_model(data):\n",
        "  \n",
        "#Define weights and biases with their dimensions \n",
        "    hidden_1_layer = {'weights' : tf.Variable(tf.random_normal([784,n_nodes_hl1])),\n",
        "                     'biases' : tf.Variable(tf.random_normal([n_nodes_hl1]))}\n",
        "    #bias is used to make some neurons fire even if all inputs is 0\n",
        "    hidden_2_layer = {'weights' : tf.Variable(tf.random_normal([n_nodes_hl1,n_nodes_hl2])),\n",
        "                     'biases' : tf.Variable(tf.random_normal([n_nodes_hl2]))}\n",
        "    hidden_3_layer = {'weights' : tf.Variable(tf.random_normal([n_nodes_hl2,n_nodes_hl3])),\n",
        "                     'biases' : tf.Variable(tf.random_normal([n_nodes_hl3]))}\n",
        "    output_layer = {'weights' : tf.Variable(tf.random_normal([n_nodes_hl3,n_classes])),\n",
        "                     'biases' : tf.Variable(tf.random_normal([n_classes]))}\n",
        "\n",
        "# Layer values =(input_data*weights) + biases\n",
        "    l1 = tf.add(tf.matmul(data,hidden_1_layer['weights']),hidden_1_layer['biases'])\n",
        "    l1 = tf.nn.relu(l1)\n",
        "    \n",
        "    l2 = tf.add(tf.matmul(l1,hidden_2_layer['weights']),hidden_2_layer['biases'])\n",
        "    l2 = tf.nn.relu(l2)\n",
        "    \n",
        "    l3 = tf.add(tf.matmul(l2,hidden_3_layer['weights']),hidden_3_layer['biases'])\n",
        "    l3 = tf.nn.relu(l3)\n",
        "    \n",
        "    output = tf.matmul(l3,output_layer['weights'])+ output_layer['biases']\n",
        "    \n",
        "    return output"
      ],
      "execution_count": 0,
      "outputs": []
    },
    {
      "metadata": {
        "id": "OFspAC1OkZ5q",
        "colab_type": "code",
        "colab": {}
      },
      "cell_type": "code",
      "source": [
        "def train_neural_network(x):\n",
        "    prediction = neural_network_model(x)\n",
        "    #Cost function is cross entropy with logits\n",
        "    cost = tf.reduce_mean(tf.nn.softmax_cross_entropy_with_logits_v2(logits=prediction,labels=y))\n",
        "    \n",
        "    #Choose the optimizer\n",
        "    optimizer = tf.train.AdamOptimizer().minimize(cost)\n",
        "    \n",
        "    #Cycles feed forward + backprop\n",
        "    hm_epochs = 10\n",
        "    \n",
        "    with tf.Session() as sess:\n",
        "        sess.run(tf.global_variables_initializer())\n",
        "       \n",
        " #Training the network\n",
        "        for epoch in range(hm_epochs):\n",
        "            epoch_loss = 0\n",
        "            for _ in range(int(mnist.train.num_examples/batch_size)):\n",
        "                epoch_x,epoch_y = mnist.train.next_batch(batch_size)\n",
        "                _, c = sess.run([optimizer,cost], feed_dict = {x:epoch_x,y:epoch_y})\n",
        "                epoch_loss += c\n",
        "            print('Epoch',epoch,'Completed out of',hm_epochs,'loss:',epoch_loss)\n",
        "                    \n",
        "        \n",
        "        correct = tf.equal(tf.argmax(prediction,1),tf.argmax(y,1))\n",
        "        accuracy = tf.reduce_mean(tf.cast(correct,'float'))\n",
        "        print('Accuracy:',accuracy.eval({x:mnist.test.images,y:mnist.test.labels}))"
      ],
      "execution_count": 0,
      "outputs": []
    },
    {
      "metadata": {
        "id": "ub0_iGUXkfZH",
        "colab_type": "code",
        "colab": {
          "base_uri": "https://localhost:8080/",
          "height": 208
        },
        "outputId": "6bffe8bd-fcac-4ad8-b46c-5b53f27ff546"
      },
      "cell_type": "code",
      "source": [
        "train_neural_network(x)"
      ],
      "execution_count": 12,
      "outputs": [
        {
          "output_type": "stream",
          "text": [
            "('Epoch', 0, 'Completed out of', 10, 'loss:', 3884462.866546631)\n",
            "('Epoch', 1, 'Completed out of', 10, 'loss:', 845261.2351440489)\n",
            "('Epoch', 2, 'Completed out of', 10, 'loss:', 396195.6472645998)\n",
            "('Epoch', 3, 'Completed out of', 10, 'loss:', 215119.0781648159)\n",
            "('Epoch', 4, 'Completed out of', 10, 'loss:', 131659.5230048746)\n",
            "('Epoch', 5, 'Completed out of', 10, 'loss:', 92325.67492604256)\n",
            "('Epoch', 6, 'Completed out of', 10, 'loss:', 86593.88845074177)\n",
            "('Epoch', 7, 'Completed out of', 10, 'loss:', 82035.77446973324)\n",
            "('Epoch', 8, 'Completed out of', 10, 'loss:', 72989.88362139463)\n",
            "('Epoch', 9, 'Completed out of', 10, 'loss:', 79776.59542003274)\n",
            "('Accuracy:', 0.9573)\n"
          ],
          "name": "stdout"
        }
      ]
    }
  ]
}