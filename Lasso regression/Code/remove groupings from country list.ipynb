{
 "cells": [
  {
   "cell_type": "code",
   "execution_count": 1,
   "metadata": {},
   "outputs": [],
   "source": [
    "import pandas as pd\n",
    "import numpy as np"
   ]
  },
  {
   "cell_type": "code",
   "execution_count": 24,
   "metadata": {},
   "outputs": [
    {
     "data": {
      "text/html": [
       "<div>\n",
       "<style scoped>\n",
       "    .dataframe tbody tr th:only-of-type {\n",
       "        vertical-align: middle;\n",
       "    }\n",
       "\n",
       "    .dataframe tbody tr th {\n",
       "        vertical-align: top;\n",
       "    }\n",
       "\n",
       "    .dataframe thead th {\n",
       "        text-align: right;\n",
       "    }\n",
       "</style>\n",
       "<table border=\"1\" class=\"dataframe\">\n",
       "  <thead>\n",
       "    <tr style=\"text-align: right;\">\n",
       "      <th></th>\n",
       "      <th>Country Name</th>\n",
       "      <th>1960</th>\n",
       "      <th>1961</th>\n",
       "      <th>1962</th>\n",
       "      <th>1963</th>\n",
       "      <th>1964</th>\n",
       "      <th>1965</th>\n",
       "      <th>1966</th>\n",
       "      <th>1967</th>\n",
       "      <th>1968</th>\n",
       "      <th>...</th>\n",
       "      <th>1990</th>\n",
       "      <th>1991</th>\n",
       "      <th>1992</th>\n",
       "      <th>1993</th>\n",
       "      <th>1994</th>\n",
       "      <th>1995</th>\n",
       "      <th>1996</th>\n",
       "      <th>1997</th>\n",
       "      <th>1998</th>\n",
       "      <th>1999</th>\n",
       "    </tr>\n",
       "  </thead>\n",
       "  <tbody>\n",
       "    <tr>\n",
       "      <th>0</th>\n",
       "      <td>Aruba</td>\n",
       "      <td>54211</td>\n",
       "      <td>55438</td>\n",
       "      <td>56225</td>\n",
       "      <td>56695</td>\n",
       "      <td>57032</td>\n",
       "      <td>57360</td>\n",
       "      <td>57715</td>\n",
       "      <td>58055</td>\n",
       "      <td>58386</td>\n",
       "      <td>...</td>\n",
       "      <td>62149</td>\n",
       "      <td>64622</td>\n",
       "      <td>68235.0</td>\n",
       "      <td>72504.0</td>\n",
       "      <td>76700.0</td>\n",
       "      <td>80324</td>\n",
       "      <td>83200</td>\n",
       "      <td>85451</td>\n",
       "      <td>87277</td>\n",
       "      <td>89005</td>\n",
       "    </tr>\n",
       "    <tr>\n",
       "      <th>1</th>\n",
       "      <td>Afghanistan</td>\n",
       "      <td>8996351</td>\n",
       "      <td>9166764</td>\n",
       "      <td>9345868</td>\n",
       "      <td>9533954</td>\n",
       "      <td>9731361</td>\n",
       "      <td>9938414</td>\n",
       "      <td>10152331</td>\n",
       "      <td>10372630</td>\n",
       "      <td>10604346</td>\n",
       "      <td>...</td>\n",
       "      <td>12249114</td>\n",
       "      <td>12993657</td>\n",
       "      <td>13981231.0</td>\n",
       "      <td>15095099.0</td>\n",
       "      <td>16172719.0</td>\n",
       "      <td>17099541</td>\n",
       "      <td>17822884</td>\n",
       "      <td>18381605</td>\n",
       "      <td>18863999</td>\n",
       "      <td>19403676</td>\n",
       "    </tr>\n",
       "  </tbody>\n",
       "</table>\n",
       "<p>2 rows × 41 columns</p>\n",
       "</div>"
      ],
      "text/plain": [
       "  Country Name     1960     1961     1962     1963     1964     1965  \\\n",
       "0        Aruba    54211    55438    56225    56695    57032    57360   \n",
       "1  Afghanistan  8996351  9166764  9345868  9533954  9731361  9938414   \n",
       "\n",
       "       1966      1967      1968    ...         1990      1991        1992  \\\n",
       "0     57715     58055     58386    ...        62149     64622     68235.0   \n",
       "1  10152331  10372630  10604346    ...     12249114  12993657  13981231.0   \n",
       "\n",
       "         1993        1994      1995      1996      1997      1998      1999  \n",
       "0     72504.0     76700.0     80324     83200     85451     87277     89005  \n",
       "1  15095099.0  16172719.0  17099541  17822884  18381605  18863999  19403676  \n",
       "\n",
       "[2 rows x 41 columns]"
      ]
     },
     "execution_count": 24,
     "metadata": {},
     "output_type": "execute_result"
    }
   ],
   "source": [
    "data = pd.read_csv(\"population_training.csv\")\n",
    "data.head(2)"
   ]
  },
  {
   "cell_type": "code",
   "execution_count": 32,
   "metadata": {},
   "outputs": [
    {
     "data": {
      "text/plain": [
       "(259, 41)"
      ]
     },
     "execution_count": 32,
     "metadata": {},
     "output_type": "execute_result"
    }
   ],
   "source": [
    "data.columns = [c.replace(' ', '_') for c in data.columns]\n",
    "data.shape"
   ]
  },
  {
   "cell_type": "code",
   "execution_count": 33,
   "metadata": {},
   "outputs": [],
   "source": [
    "# List of non-countries (aggregations) to remove so that we're only\n",
    "# considering countries\n",
    "groupings = ['Arab World', 'Central Europe and the Baltics',\n",
    "                'Caribbean small states',\n",
    "                'East Asia & Pacific (excluding high income)',\n",
    "                'Early-demographic dividend', 'East Asia & Pacific',\n",
    "                'Europe & Central Asia (excluding high income)',\n",
    "                'Europe & Central Asia', 'Euro area', 'European Union',\n",
    "                'Fragile and conflict affected situations',\n",
    "                'High income', 'Heavily indebted poor countries (HIPC)',\n",
    "                'IBRD only', 'IDA & IBRD total', 'IDA total', 'IDA blend',\n",
    "                'IDA only',\n",
    "                'Latin America & Caribbean (excluding high income)',\n",
    "                'Latin America & Caribbean',\n",
    "                'Least developed countries: UN classification',\n",
    "                'Low income', 'Lower middle income',\n",
    "                'Low & middle income', 'Late-demographic dividend',\n",
    "                'Middle East & North Africa', 'Middle income',\n",
    "                'Middle East & North Africa (excluding high income)',\n",
    "                'North America', 'OECD members', 'Other small states',\n",
    "                'Pre-demographic dividend', 'Pacific island small states',\n",
    "                'Post-demographic dividend', 'South Asia',\n",
    "                'Sub-Saharan Africa (excluding high income)',\n",
    "                'Sub-Saharan Africa', 'Small states',\n",
    "                'East Asia & Pacific (IDA & IBRD countries)',\n",
    "                'Europe & Central Asia (IDA & IBRD countries)',\n",
    "                'Latin America & the Caribbean (IDA & IBRD countries)',\n",
    "                'Middle East & North Africa (IDA & IBRD countries)',\n",
    "                'South Asia (IDA & IBRD)',\n",
    "                'Sub-Saharan Africa (IDA & IBRD countries)',\n",
    "                'Upper middle income', 'World']"
   ]
  },
  {
   "cell_type": "code",
   "execution_count": 34,
   "metadata": {},
   "outputs": [
    {
     "data": {
      "text/plain": [
       "46"
      ]
     },
     "execution_count": 34,
     "metadata": {},
     "output_type": "execute_result"
    }
   ],
   "source": [
    "len(groupings)"
   ]
  },
  {
   "cell_type": "code",
   "execution_count": 36,
   "metadata": {},
   "outputs": [
    {
     "data": {
      "text/plain": [
       "(213, 41)"
      ]
     },
     "execution_count": 36,
     "metadata": {},
     "output_type": "execute_result"
    }
   ],
   "source": [
    "#Remove observations of nonCountries from 'data'\n",
    "data2 = data[~data['Country_Name'].isin(groupings)]\n",
    "data2.shape"
   ]
  }
 ],
 "metadata": {
  "kernelspec": {
   "display_name": "Python 3",
   "language": "python",
   "name": "python3"
  },
  "language_info": {
   "codemirror_mode": {
    "name": "ipython",
    "version": 3
   },
   "file_extension": ".py",
   "mimetype": "text/x-python",
   "name": "python",
   "nbconvert_exporter": "python",
   "pygments_lexer": "ipython3",
   "version": "3.6.5"
  }
 },
 "nbformat": 4,
 "nbformat_minor": 2
}
