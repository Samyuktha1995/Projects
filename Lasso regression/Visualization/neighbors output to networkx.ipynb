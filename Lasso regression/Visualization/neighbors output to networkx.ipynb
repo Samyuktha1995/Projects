{
 "cells": [
  {
   "cell_type": "code",
   "execution_count": 1,
   "metadata": {},
   "outputs": [],
   "source": [
    "import networkx as nx\n",
    "import pandas as pd\n",
    "import numpy as np"
   ]
  },
  {
   "cell_type": "code",
   "execution_count": 2,
   "metadata": {},
   "outputs": [
    {
     "data": {
      "text/html": [
       "<div>\n",
       "<style scoped>\n",
       "    .dataframe tbody tr th:only-of-type {\n",
       "        vertical-align: middle;\n",
       "    }\n",
       "\n",
       "    .dataframe tbody tr th {\n",
       "        vertical-align: top;\n",
       "    }\n",
       "\n",
       "    .dataframe thead th {\n",
       "        text-align: right;\n",
       "    }\n",
       "</style>\n",
       "<table border=\"1\" class=\"dataframe\">\n",
       "  <thead>\n",
       "    <tr style=\"text-align: right;\">\n",
       "      <th></th>\n",
       "      <th>country</th>\n",
       "      <th>neighbor1</th>\n",
       "      <th>neighbor2</th>\n",
       "      <th>neighbor3</th>\n",
       "      <th>neighbor4</th>\n",
       "      <th>neighbor5</th>\n",
       "    </tr>\n",
       "  </thead>\n",
       "  <tbody>\n",
       "    <tr>\n",
       "      <th>0</th>\n",
       "      <td>Aruba</td>\n",
       "      <td>Upper middle income</td>\n",
       "      <td>Uganda</td>\n",
       "      <td>Heavily indebted poor countries (HIPC)</td>\n",
       "      <td>Puerto Rico</td>\n",
       "      <td>East Asia &amp; Pacific (IDA &amp; IBRD countries)</td>\n",
       "    </tr>\n",
       "    <tr>\n",
       "      <th>1</th>\n",
       "      <td>Afghanistan</td>\n",
       "      <td>Bolivia</td>\n",
       "      <td>Greenland</td>\n",
       "      <td>Cuba</td>\n",
       "      <td>Ethiopia</td>\n",
       "      <td>Monaco</td>\n",
       "    </tr>\n",
       "  </tbody>\n",
       "</table>\n",
       "</div>"
      ],
      "text/plain": [
       "       country            neighbor1  neighbor2  \\\n",
       "0        Aruba  Upper middle income     Uganda   \n",
       "1  Afghanistan              Bolivia  Greenland   \n",
       "\n",
       "                                neighbor3    neighbor4  \\\n",
       "0  Heavily indebted poor countries (HIPC)  Puerto Rico   \n",
       "1                                    Cuba     Ethiopia   \n",
       "\n",
       "                                    neighbor5  \n",
       "0  East Asia & Pacific (IDA & IBRD countries)  \n",
       "1                                      Monaco  "
      ]
     },
     "execution_count": 2,
     "metadata": {},
     "output_type": "execute_result"
    }
   ],
   "source": [
    "df = pd.read_csv(\"neighbor.csv\")\n",
    "df.head(2)"
   ]
  },
  {
   "cell_type": "code",
   "execution_count": 3,
   "metadata": {},
   "outputs": [
    {
     "data": {
      "text/plain": [
       "(259, 6)"
      ]
     },
     "execution_count": 3,
     "metadata": {},
     "output_type": "execute_result"
    }
   ],
   "source": [
    "df.shape"
   ]
  },
  {
   "cell_type": "code",
   "execution_count": 4,
   "metadata": {},
   "outputs": [],
   "source": [
    "#convert df to ndarray\n",
    "df = df.values"
   ]
  },
  {
   "cell_type": "code",
   "execution_count": 5,
   "metadata": {},
   "outputs": [
    {
     "data": {
      "text/plain": [
       "array([['Aruba', 'Upper middle income', 'Uganda',\n",
       "        'Heavily indebted poor countries (HIPC)', 'Puerto Rico',\n",
       "        'East Asia & Pacific (IDA & IBRD countries)'],\n",
       "       ['Afghanistan', 'Bolivia', 'Greenland', 'Cuba', 'Ethiopia',\n",
       "        'Monaco']], dtype=object)"
      ]
     },
     "execution_count": 5,
     "metadata": {},
     "output_type": "execute_result"
    }
   ],
   "source": [
    "df[0:2]"
   ]
  },
  {
   "cell_type": "code",
   "execution_count": 6,
   "metadata": {},
   "outputs": [],
   "source": [
    "#this function will convert our adjacecny list from matrix form to dictionary form\n",
    "def add(adjacencyList, country, neighbors):\n",
    "    adjacencyList.setdefault(country, []).append(neighbors)"
   ]
  },
  {
   "cell_type": "code",
   "execution_count": 7,
   "metadata": {},
   "outputs": [],
   "source": [
    "#loop over adjacency list matrix to dictionary list\n",
    "adjacencyList = {}\n",
    "\n",
    "for i in range(0, len(df)):\n",
    "    for j in range(1, len(df[i])):\n",
    "        add(adjacencyList, df[i][0], df[i][j])"
   ]
  },
  {
   "cell_type": "code",
   "execution_count": 8,
   "metadata": {
    "scrolled": true
   },
   "outputs": [
    {
     "data": {
      "text/plain": [
       "{'Aruba': ['Upper middle income',\n",
       "  'Uganda',\n",
       "  'Heavily indebted poor countries (HIPC)',\n",
       "  'Puerto Rico',\n",
       "  'East Asia & Pacific (IDA & IBRD countries)'],\n",
       " 'Afghanistan': ['Bolivia', 'Greenland', 'Cuba', 'Ethiopia', 'Monaco']}"
      ]
     },
     "execution_count": 8,
     "metadata": {},
     "output_type": "execute_result"
    }
   ],
   "source": [
    "#adjacencyList\n",
    "{k: adjacencyList[k] for k in list(adjacencyList)[:2]}"
   ]
  },
  {
   "cell_type": "code",
   "execution_count": 9,
   "metadata": {},
   "outputs": [],
   "source": [
    "#create a directed graph using our adjacency list\n",
    "g = nx.DiGraph(adjacencyList)"
   ]
  },
  {
   "cell_type": "code",
   "execution_count": 35,
   "metadata": {},
   "outputs": [
    {
     "data": {
      "image/png": "[encoded data removed]",
      "text/plain": [
       "<Figure size 432x288 with 1 Axes>"
      ]
     },
     "metadata": {},
     "output_type": "display_data"
    }
   ],
   "source": [
    "nx.draw_networkx(g)"
   ]
  },
  {
   "cell_type": "code",
   "execution_count": 11,
   "metadata": {},
   "outputs": [],
   "source": [
    "#write gexf file for gephi\n",
    "#nx.write_gexf(g, \"neighbors.gexf\")"
   ]
  },
  {
   "cell_type": "code",
   "execution_count": 12,
   "metadata": {},
   "outputs": [],
   "source": [
    "############### Additionaly we can add location attributes (latitude and longitude)\n",
    "############### to every country, so we can arrange our graph using GeoLayout in\n",
    "############### gephi"
   ]
  },
  {
   "cell_type": "code",
   "execution_count": 13,
   "metadata": {},
   "outputs": [],
   "source": [
    "#List of countries in our data to match with other csv for adding attributes\n",
    "countries = df[:,0]"
   ]
  },
  {
   "cell_type": "code",
   "execution_count": 14,
   "metadata": {},
   "outputs": [
    {
     "data": {
      "text/html": [
       "<div>\n",
       "<style scoped>\n",
       "    .dataframe tbody tr th:only-of-type {\n",
       "        vertical-align: middle;\n",
       "    }\n",
       "\n",
       "    .dataframe tbody tr th {\n",
       "        vertical-align: top;\n",
       "    }\n",
       "\n",
       "    .dataframe thead th {\n",
       "        text-align: right;\n",
       "    }\n",
       "</style>\n",
       "<table border=\"1\" class=\"dataframe\">\n",
       "  <thead>\n",
       "    <tr style=\"text-align: right;\">\n",
       "      <th></th>\n",
       "      <th>country</th>\n",
       "      <th>latitude</th>\n",
       "      <th>longitude</th>\n",
       "    </tr>\n",
       "  </thead>\n",
       "  <tbody>\n",
       "    <tr>\n",
       "      <th>0</th>\n",
       "      <td>Andorra</td>\n",
       "      <td>42.546245</td>\n",
       "      <td>1.601554</td>\n",
       "    </tr>\n",
       "    <tr>\n",
       "      <th>1</th>\n",
       "      <td>United Arab Emirates</td>\n",
       "      <td>23.424076</td>\n",
       "      <td>53.847818</td>\n",
       "    </tr>\n",
       "  </tbody>\n",
       "</table>\n",
       "</div>"
      ],
      "text/plain": [
       "                country   latitude  longitude\n",
       "0               Andorra  42.546245   1.601554\n",
       "1  United Arab Emirates  23.424076  53.847818"
      ]
     },
     "execution_count": 14,
     "metadata": {},
     "output_type": "execute_result"
    }
   ],
   "source": [
    "location = pd.read_csv(\"lat_lon.csv\")\n",
    "location.head(2)"
   ]
  },
  {
   "cell_type": "code",
   "execution_count": 15,
   "metadata": {},
   "outputs": [
    {
     "data": {
      "text/plain": [
       "(294, 3)"
      ]
     },
     "execution_count": 15,
     "metadata": {},
     "output_type": "execute_result"
    }
   ],
   "source": [
    "location.shape"
   ]
  },
  {
   "cell_type": "code",
   "execution_count": 16,
   "metadata": {},
   "outputs": [],
   "source": [
    "location = location.values"
   ]
  },
  {
   "cell_type": "code",
   "execution_count": 17,
   "metadata": {},
   "outputs": [
    {
     "data": {
      "text/plain": [
       "array([['Andorra', 42.546245, 1.6015540000000001],\n",
       "       ['United Arab Emirates', 23.424076, 53.847818000000004]],\n",
       "      dtype=object)"
      ]
     },
     "execution_count": 17,
     "metadata": {},
     "output_type": "execute_result"
    }
   ],
   "source": [
    "location[0:2]"
   ]
  },
  {
   "cell_type": "code",
   "execution_count": 18,
   "metadata": {},
   "outputs": [
    {
     "data": {
      "text/plain": [
       "259"
      ]
     },
     "execution_count": 18,
     "metadata": {},
     "output_type": "execute_result"
    }
   ],
   "source": [
    "#Check how many matches we have for location csv and data csv\n",
    "count = 0\n",
    "\n",
    "for i in range(len(df)):\n",
    "    for j in range(len(location)):\n",
    "        if df[i][0] == location[j][0]:\n",
    "            count = count + 1\n",
    "count"
   ]
  },
  {
   "cell_type": "code",
   "execution_count": 19,
   "metadata": {},
   "outputs": [],
   "source": [
    "#Create a dictionary of dictionary for location attributes of nodes\n",
    "nodeList = {}\n",
    "\n",
    "for country in countries:\n",
    "    for j in range(len(location)):\n",
    "        if country == location[j][0]:\n",
    "            nodeList[country] = {}\n",
    "            nodeList[country][\"Latitude\"] = location[j][1]\n",
    "            nodeList[country][\"Longitude\"] = location[j][2]"
   ]
  },
  {
   "cell_type": "code",
   "execution_count": 20,
   "metadata": {},
   "outputs": [
    {
     "data": {
      "text/plain": [
       "[]"
      ]
     },
     "execution_count": 20,
     "metadata": {},
     "output_type": "execute_result"
    }
   ],
   "source": [
    "#Check which ones are unmatched from location csv and our dictionary\n",
    "l1 = []\n",
    "for key, value in nodeList.items():\n",
    "    l1.append(key)  \n",
    "    \n",
    "notmatched = list(set(countries) - set(l1))\n",
    "\n",
    "notmatched"
   ]
  },
  {
   "cell_type": "code",
   "execution_count": 21,
   "metadata": {},
   "outputs": [
    {
     "data": {
      "text/plain": [
       "{'Aruba': {'Latitude': 12.52111, 'Longitude': -69.968338},\n",
       " 'Afghanistan': {'Latitude': 33.93911, 'Longitude': 67.709953}}"
      ]
     },
     "execution_count": 21,
     "metadata": {},
     "output_type": "execute_result"
    }
   ],
   "source": [
    "#nodeList\n",
    "{k: nodeList[k] for k in list(nodeList)[:2]}"
   ]
  },
  {
   "cell_type": "code",
   "execution_count": 22,
   "metadata": {},
   "outputs": [],
   "source": [
    "#Append node location attributes to the graph\n",
    "nx.set_node_attributes(g, nodeList)"
   ]
  },
  {
   "cell_type": "code",
   "execution_count": 23,
   "metadata": {},
   "outputs": [],
   "source": [
    "############### Next idea is to add an attribue that says which continent a\n",
    "############### country belongs to so we can color-code our nodes on the graph\n",
    "############### according to that"
   ]
  },
  {
   "cell_type": "code",
   "execution_count": 24,
   "metadata": {},
   "outputs": [
    {
     "data": {
      "text/html": [
       "<div>\n",
       "<style scoped>\n",
       "    .dataframe tbody tr th:only-of-type {\n",
       "        vertical-align: middle;\n",
       "    }\n",
       "\n",
       "    .dataframe tbody tr th {\n",
       "        vertical-align: top;\n",
       "    }\n",
       "\n",
       "    .dataframe thead th {\n",
       "        text-align: right;\n",
       "    }\n",
       "</style>\n",
       "<table border=\"1\" class=\"dataframe\">\n",
       "  <thead>\n",
       "    <tr style=\"text-align: right;\">\n",
       "      <th></th>\n",
       "      <th>Continent</th>\n",
       "      <th>Country</th>\n",
       "    </tr>\n",
       "  </thead>\n",
       "  <tbody>\n",
       "    <tr>\n",
       "      <th>0</th>\n",
       "      <td>Africa</td>\n",
       "      <td>Algeria</td>\n",
       "    </tr>\n",
       "    <tr>\n",
       "      <th>1</th>\n",
       "      <td>Africa</td>\n",
       "      <td>Angola</td>\n",
       "    </tr>\n",
       "  </tbody>\n",
       "</table>\n",
       "</div>"
      ],
      "text/plain": [
       "  Continent  Country\n",
       "0    Africa  Algeria\n",
       "1    Africa   Angola"
      ]
     },
     "execution_count": 24,
     "metadata": {},
     "output_type": "execute_result"
    }
   ],
   "source": [
    "continents = pd.read_csv(\"countries_continents.csv\")\n",
    "continents.head(2)"
   ]
  },
  {
   "cell_type": "code",
   "execution_count": 25,
   "metadata": {},
   "outputs": [
    {
     "data": {
      "text/plain": [
       "(263, 2)"
      ]
     },
     "execution_count": 25,
     "metadata": {},
     "output_type": "execute_result"
    }
   ],
   "source": [
    "continents.shape"
   ]
  },
  {
   "cell_type": "code",
   "execution_count": 26,
   "metadata": {
    "scrolled": false
   },
   "outputs": [],
   "source": [
    "continents = continents.values"
   ]
  },
  {
   "cell_type": "code",
   "execution_count": 27,
   "metadata": {},
   "outputs": [
    {
     "data": {
      "text/plain": [
       "array([['Africa', 'Algeria'],\n",
       "       ['Africa', 'Angola']], dtype=object)"
      ]
     },
     "execution_count": 27,
     "metadata": {},
     "output_type": "execute_result"
    }
   ],
   "source": [
    "continents[0:2]"
   ]
  },
  {
   "cell_type": "code",
   "execution_count": 28,
   "metadata": {},
   "outputs": [
    {
     "data": {
      "text/plain": [
       "259"
      ]
     },
     "execution_count": 28,
     "metadata": {},
     "output_type": "execute_result"
    }
   ],
   "source": [
    "count = 0\n",
    "\n",
    "for i in range(len(df)):\n",
    "    for j in range(len(continents)):\n",
    "        if df[i][0] == continents[j][1]:\n",
    "            count = count + 1\n",
    "count"
   ]
  },
  {
   "cell_type": "code",
   "execution_count": 29,
   "metadata": {},
   "outputs": [],
   "source": [
    "#Create a dictionary of dictionary for continent attributes of nodes\n",
    "nodeList2 = {}\n",
    "\n",
    "for country in countries:\n",
    "    for j in range(len(continents)):\n",
    "        if country == continents[j][1]:\n",
    "            nodeList2[country] = {}\n",
    "            nodeList2[country][\"Continent\"] = continents[j][0]"
   ]
  },
  {
   "cell_type": "code",
   "execution_count": 30,
   "metadata": {
    "scrolled": true
   },
   "outputs": [
    {
     "data": {
      "text/plain": [
       "[]"
      ]
     },
     "execution_count": 30,
     "metadata": {},
     "output_type": "execute_result"
    }
   ],
   "source": [
    "#Check which ones are unmatched from continents csv and our dictionary\n",
    "l2 = []\n",
    "for key, value in nodeList2.items():\n",
    "    l2.append(key)  \n",
    "    \n",
    "notmatched = list(set(countries) - set(l2))\n",
    "\n",
    "notmatched"
   ]
  },
  {
   "cell_type": "code",
   "execution_count": 31,
   "metadata": {},
   "outputs": [
    {
     "data": {
      "text/plain": [
       "{'Aruba': {'Continent': 'North America'}, 'Afghanistan': {'Continent': 'Asia'}}"
      ]
     },
     "execution_count": 31,
     "metadata": {},
     "output_type": "execute_result"
    }
   ],
   "source": [
    "#nodeList2\n",
    "{k: nodeList2[k] for k in list(nodeList2)[:2]}"
   ]
  },
  {
   "cell_type": "code",
   "execution_count": 32,
   "metadata": {},
   "outputs": [],
   "source": [
    "#Append node continent attributes to the graph\n",
    "nx.set_node_attributes(g, nodeList2)"
   ]
  },
  {
   "cell_type": "code",
   "execution_count": 33,
   "metadata": {},
   "outputs": [],
   "source": [
    "############### We have set up our graph for visualization ###############"
   ]
  },
  {
   "cell_type": "code",
   "execution_count": 37,
   "metadata": {},
   "outputs": [],
   "source": [
    "#g.node.data()"
   ]
  },
  {
   "cell_type": "code",
   "execution_count": 34,
   "metadata": {},
   "outputs": [],
   "source": [
    "#write gexf file for gephi\n",
    "nx.write_gexf(g, \"neighbors3.gexf\")"
   ]
  }
 ],
 "metadata": {
  "kernelspec": {
   "display_name": "Python 3",
   "language": "python",
   "name": "python3"
  },
  "language_info": {
   "codemirror_mode": {
    "name": "ipython",
    "version": 3
   },
   "file_extension": ".py",
   "mimetype": "text/x-python",
   "name": "python",
   "nbconvert_exporter": "python",
   "pygments_lexer": "ipython3",
   "version": "3.6.5"
  }
 },
 "nbformat": 4,
 "nbformat_minor": 2
}
